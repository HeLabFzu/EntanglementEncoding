{
 "cells": [
  {
   "cell_type": "code",
   "execution_count": null,
   "id": "fd6bebb4-e5da-4fb9-9ea3-69cc23183b6b",
   "metadata": {},
   "outputs": [],
   "source": [
    "# This file is to derive the throughput of EEBED.\n",
    "\n",
    "# The limitation of qiskit, including 1) qiskit can simulate quantum channel noise but can not the real quantum channel, 2) While the simulation runs, some parallel quantum gates are executed sequentially. 3), it can not run large circuit due to the large resource requirement. \n",
    "# Because above limitations, We indirectly derive EEBED's throughput. The time cost of EEBED consists of three parts: the time cost of short distance ED, the time cost of EE(decoder and decoupler), and the time cost of entanglement swapping.\n",
    "\n",
    "# 1) The time cost of short distance ED: The time cost of short distance ED is calculated from the speed of light and the length of the channel. Assuming that the length of the channel is 50km and the speed of light is 300000km/s, it takes about 0.16 ms for the local domain controller to complete the short distance ED of adjacent Repeaters. In EEBED, a local domain controller must prepare and distribute at least three entangled pairs, which can only be executed sequentially. So the time cost is 3*0.16=0.48ms. Short distance ED can be performed in parallel between different local domain controllers.\n",
    "\n",
    "# 2) The time cost of EE: EE between Repeaters can be executed parallelly, so we only need to calculate the time cost for one EE, including the time costs of the decoder and decoupler.  We can run the following code to derive it.\n",
    "\n",
    "# 3) The time cost of entanglement swapping: it can be derived from the ordinary long distance ED."
   ]
  },
  {
   "cell_type": "code",
   "execution_count": 1,
   "id": "9242d903-2bd7-4945-adb0-f71b1b79b3cd",
   "metadata": {},
   "outputs": [
    {
     "data": {
      "text/plain": [
       "<qiskit.circuit.instructionset.InstructionSet at 0x12fdb1670>"
      ]
     },
     "execution_count": 1,
     "metadata": {},
     "output_type": "execute_result"
    }
   ],
   "source": [
    "# This code cell is to define a circuit which include a decoder and a decoupler of EE. \n",
    "from qiskit import QuantumRegister, ClassicalRegister, QuantumCircuit\n",
    "from numpy import pi\n",
    "from qiskit_aer import AerSimulator\n",
    "\n",
    "qreg_q = QuantumRegister(11, 'q')\n",
    "creg_c0 = ClassicalRegister(1, 'c0')\n",
    "creg_c1 = ClassicalRegister(1, 'c1')\n",
    "creg_c2 = ClassicalRegister(1, 'c2')\n",
    "circuit = QuantumCircuit(qreg_q, creg_c0, creg_c1, creg_c2)\n",
    "\n",
    "circuit.h(qreg_q[0])\n",
    "circuit.x(qreg_q[3])\n",
    "circuit.x(qreg_q[4])\n",
    "circuit.x(qreg_q[5])\n",
    "circuit.cx(qreg_q[0], qreg_q[1])\n",
    "circuit.cx(qreg_q[0], qreg_q[2])\n",
    "circuit.cx(qreg_q[1], qreg_q[9])\n",
    "circuit.cx(qreg_q[0], qreg_q[10])\n",
    "circuit.cx(qreg_q[2], qreg_q[8])\n",
    "circuit.x(qreg_q[0])\n",
    "circuit.x(qreg_q[1])\n",
    "circuit.x(qreg_q[2])\n",
    "circuit.ccx(qreg_q[0], qreg_q[1], qreg_q[3])\n",
    "circuit.ccx(qreg_q[1], qreg_q[2], qreg_q[4])\n",
    "circuit.ccx(qreg_q[0], qreg_q[2], qreg_q[5])\n",
    "circuit.x(qreg_q[0])\n",
    "circuit.x(qreg_q[1])\n",
    "circuit.x(qreg_q[2])\n",
    "circuit.ccx(qreg_q[3], qreg_q[4], qreg_q[6])\n",
    "circuit.ccx(qreg_q[5], qreg_q[6], qreg_q[7])\n",
    "circuit.ccx(qreg_q[3], qreg_q[4], qreg_q[6])\n",
    "circuit.ccx(qreg_q[0], qreg_q[2], qreg_q[5])\n",
    "circuit.ccx(qreg_q[1], qreg_q[2], qreg_q[4])\n",
    "circuit.ccx(qreg_q[0], qreg_q[1], qreg_q[3])\n",
    "circuit.ccx(qreg_q[3], qreg_q[5], qreg_q[0])\n",
    "circuit.ccx(qreg_q[3], qreg_q[4], qreg_q[1])\n",
    "circuit.h(qreg_q[0])\n",
    "circuit.h(qreg_q[1])\n",
    "circuit.ccx(qreg_q[4], qreg_q[5], qreg_q[2])\n",
    "circuit.h(qreg_q[2])\n",
    "circuit.measure(qreg_q[0], creg_c0[0])\n",
    "circuit.measure(qreg_q[1], creg_c1[0])\n",
    "circuit.measure(qreg_q[2], creg_c2[0])\n",
    "circuit.z(qreg_q[7]).c_if(creg_c0, 1)\n",
    "circuit.z(qreg_q[7]).c_if(creg_c1, 1)\n",
    "circuit.z(qreg_q[7]).c_if(creg_c2, 1)\n",
    "#circuit.draw(\"mpl\")"
   ]
  },
  {
   "cell_type": "code",
   "execution_count": 6,
   "id": "d37db122-8690-4e08-869b-d4b54ac8bc88",
   "metadata": {},
   "outputs": [
    {
     "name": "stdout",
     "output_type": "stream",
     "text": [
      "0.0021157264709472656\n"
     ]
    }
   ],
   "source": [
    "# deriving the time cost of one EE.\n",
    "sim_ideal = AerSimulator(max_memory_mb=65536)\n",
    "ee_time = sim_ideal.run(circuit,shots=1).result().time_taken\n",
    "print(ee_time)\n"
   ]
  },
  {
   "cell_type": "code",
   "execution_count": 7,
   "id": "962101a4-6ede-4ba4-8232-78a18d455414",
   "metadata": {},
   "outputs": [
    {
     "name": "stdout",
     "output_type": "stream",
     "text": [
      "27.131693246433198\n",
      "24.9642607215645\n"
     ]
    }
   ],
   "source": [
    "# calculating the throughput of EE (pairs/s or eps)\n",
    "es_time_3_nodes = 1.09   # deriving from the ordinary_long_distance_ED\n",
    "es_time_4_nodes = 1.41\n",
    "\n",
    "EEBED_total_time_3_nodes = 0.48 + ee_time * 1000 + es_time_3_nodes\n",
    "EEBED_total_time_4_nodes = 0.48 + ee_time * 1000 + es_time_4_nodes\n",
    "\n",
    "EEBED_throughput_3_nodes = 1/(EEBED_total_time_3_nodes/100)\n",
    "EEBED_throughput_4_nodes = 1/(EEBED_total_time_4_nodes/100)\n",
    "\n",
    "print(EEBED_throughput_3_nodes) \n",
    "print(EEBED_throughput_4_nodes)"
   ]
  },
  {
   "cell_type": "code",
   "execution_count": null,
   "id": "35b6f1ca-7535-4a6b-a100-3e036b4a9c4b",
   "metadata": {},
   "outputs": [],
   "source": []
  }
 ],
 "metadata": {
  "kernelspec": {
   "display_name": "Python 3 (ipykernel)",
   "language": "python",
   "name": "python3"
  },
  "language_info": {
   "codemirror_mode": {
    "name": "ipython",
    "version": 3
   },
   "file_extension": ".py",
   "mimetype": "text/x-python",
   "name": "python",
   "nbconvert_exporter": "python",
   "pygments_lexer": "ipython3",
   "version": "3.8.2"
  }
 },
 "nbformat": 4,
 "nbformat_minor": 5
}
