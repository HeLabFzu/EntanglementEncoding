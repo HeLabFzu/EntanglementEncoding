{
 "cells": [
  {
   "cell_type": "code",
   "execution_count": null,
   "id": "d15e0821-d269-404c-99e6-29d064d33569",
   "metadata": {},
   "outputs": [],
   "source": [
    "# This file is to evaluate EE Based D-CNOT(Entanglement Encoding Based Distributed CNOT). \n",
    "# Specifically, it includes two parts of evaluation.\n",
    "# Part I: evaluating the feasibility of EE Based D-CNOT in an ideal case (i.e., no quantum channel noise).\n",
    "# Part II: evaluating the effectiveness of EE Based D-CNOT in realistic cases (i.e., introducing the quantum channel noise (e.g., depolarizing noise, pauli error, thermal relaxation error, and phase amplitude damping error))."
   ]
  },
  {
   "cell_type": "code",
   "execution_count": 1,
   "id": "e4191a1e-7032-4ac0-aacc-bb38c7a694f2",
   "metadata": {},
   "outputs": [],
   "source": [
    "# This code cell is to define the circuit of EE Based D-CNOT. You can visualize the circuit by \"circuit.draw(\"mpl\")\".\n",
    "\n",
    "from qiskit import QuantumRegister, ClassicalRegister, QuantumCircuit\n",
    "from qiskit_aer import AerSimulator\n",
    "from qiskit.visualization import plot_histogram\n",
    "from qiskit_aer.noise import (\n",
    "    NoiseModel,\n",
    "    QuantumError,\n",
    "    depolarizing_error,\n",
    "    pauli_error,\n",
    "    thermal_relaxation_error,\n",
    "    phase_amplitude_damping_error,\n",
    ")\n",
    "from numpy import pi\n",
    "from qiskit.transpiler.preset_passmanagers import generate_preset_pass_manager\n",
    "\n",
    "qreg_q = QuantumRegister(13, 'q')\n",
    "creg_c0 = ClassicalRegister(1, 'c0')\n",
    "creg_c1 = ClassicalRegister(1, 'c1')\n",
    "creg_c2 = ClassicalRegister(1, 'c2')\n",
    "creg_c3 = ClassicalRegister(1, 'c3')\n",
    "creg_c4 = ClassicalRegister(1, 'c4')\n",
    "creg_c5 = ClassicalRegister(1, 'c5')\n",
    "creg_c6 = ClassicalRegister(1, 'c6')\n",
    "circuit = QuantumCircuit(qreg_q, creg_c0, creg_c1, creg_c2, creg_c3, creg_c4, creg_c5, creg_c6)\n",
    "\n",
    "circuit.h(qreg_q[0])\n",
    "circuit.h(qreg_q[1])\n",
    "circuit.h(qreg_q[2])\n",
    "circuit.h(qreg_q[3])\n",
    "circuit.cx(qreg_q[1], qreg_q[6])\n",
    "circuit.cx(qreg_q[2], qreg_q[5])\n",
    "circuit.cx(qreg_q[3], qreg_q[4])\n",
    "circuit.cx(qreg_q[0], qreg_q[1])\n",
    "circuit.cx(qreg_q[0], qreg_q[2])\n",
    "circuit.cx(qreg_q[0], qreg_q[3])\n",
    "circuit.measure(qreg_q[1], creg_c2[0])\n",
    "circuit.measure(qreg_q[2], creg_c1[0])\n",
    "circuit.measure(qreg_q[3], creg_c0[0])\n",
    "circuit.x(qreg_q[4]).c_if(creg_c0, 1)\n",
    "circuit.x(qreg_q[5]).c_if(creg_c1, 1)\n",
    "circuit.x(qreg_q[6]).c_if(creg_c2, 1)\n",
    "circuit.x(qreg_q[4])\n",
    "circuit.x(qreg_q[5])\n",
    "circuit.x(qreg_q[6])\n",
    "circuit.x(qreg_q[7])\n",
    "circuit.x(qreg_q[8])\n",
    "circuit.x(qreg_q[9])\n",
    "circuit.ccx(qreg_q[4], qreg_q[5], qreg_q[7])\n",
    "circuit.ccx(qreg_q[5], qreg_q[6], qreg_q[8])\n",
    "circuit.ccx(qreg_q[4], qreg_q[6], qreg_q[9])\n",
    "circuit.ccx(qreg_q[7], qreg_q[8], qreg_q[10])\n",
    "circuit.ccx(qreg_q[9], qreg_q[10], qreg_q[11])\n",
    "circuit.x(qreg_q[4])\n",
    "circuit.x(qreg_q[5])\n",
    "circuit.x(qreg_q[6])\n",
    "circuit.cx(qreg_q[11], qreg_q[12])\n",
    "circuit.h(qreg_q[11])\n",
    "circuit.measure(qreg_q[11], creg_c3[0])\n",
    "circuit.z(qreg_q[0]).c_if(creg_c3, 1)\n",
    "circuit.ccx(qreg_q[7], qreg_q[8], qreg_q[10])\n",
    "circuit.ccx(qreg_q[4], qreg_q[6], qreg_q[9])\n",
    "circuit.ccx(qreg_q[5], qreg_q[6], qreg_q[8])\n",
    "circuit.ccx(qreg_q[4], qreg_q[5], qreg_q[7])\n",
    "circuit.ccx(qreg_q[9], qreg_q[7], qreg_q[4])\n",
    "circuit.ccx(qreg_q[8], qreg_q[7], qreg_q[5])\n",
    "circuit.ccx(qreg_q[8], qreg_q[9], qreg_q[6])\n",
    "circuit.h(qreg_q[4])\n",
    "circuit.h(qreg_q[5])\n",
    "circuit.h(qreg_q[6])\n",
    "circuit.measure(qreg_q[4], creg_c4[0])\n",
    "circuit.measure(qreg_q[5], creg_c5[0])\n",
    "circuit.measure(qreg_q[6], creg_c6[0])\n",
    "circuit.z(qreg_q[0]).c_if(creg_c4, 1)\n",
    "circuit.z(qreg_q[0]).c_if(creg_c5, 1)\n",
    "circuit.z(qreg_q[0]).c_if(creg_c6, 1)\n",
    "circuit.measure_all()\n",
    "#circuit.draw(\"mpl\")"
   ]
  },
  {
   "cell_type": "code",
   "execution_count": 3,
   "id": "e3e01aa1-2e9c-4026-a997-75cb9a87f244",
   "metadata": {},
   "outputs": [
    {
     "name": "stdout",
     "output_type": "stream",
     "text": [
      "{'00': 506, '01': 0, '10': 0, '11': 494}\n"
     ]
    },
    {
     "data": {
      "image/png": "[encoded data removed]",
      "text/plain": [
       "<Figure size 640x480 with 1 Axes>"
      ]
     },
     "execution_count": 3,
     "metadata": {},
     "output_type": "execute_result"
    }
   ],
   "source": [
    "# This code cell is to perform the ideal simulation (without noise).\n",
    "# Repeately exec circuit for 1000 times.\n",
    "# The result shows the probability of case:00 + case:11 is 100% which means that the control_qubit is totally related to target_qubit. (D-CNOT's success rate is 100%)\n",
    "# If case:00 + case:11 is not 100% which means control_qubit is not totally related to target_qubit. (D-CNOT's success rate is not 100%.)\n",
    "# Especially, if case:00 +case:11 is only 50% which means control_qubit is not realated to target_qubit. (D-CNOT's success rate is 0%.)\n",
    "sim_ideal = AerSimulator()\n",
    "counts = sim_ideal.run(circuit,shots=1000).result().get_counts()\n",
    "target_qubits_counts = {'00': 0, '01':0, '10':0, '11': 0}\n",
    "for outcome, count in counts.items():\n",
    "    target_qubits = outcome[12] + outcome[0]  # choose control_qubit(Alice side) q0(outcome[12]) and target_qubit(Bob side) q12(outcome[0])\n",
    "    target_qubits_counts[target_qubits] += count\n",
    "print(target_qubits_counts)\n",
    "plot_histogram(target_qubits_counts)"
   ]
  },
  {
   "cell_type": "code",
   "execution_count": 2,
   "id": "1b4a3a11-ca01-4433-938c-670c400b05d2",
   "metadata": {},
   "outputs": [
    {
     "name": "stderr",
     "output_type": "stream",
     "text": [
      "/Users/ben/Library/Python/3.8/lib/python/site-packages/urllib3/__init__.py:35: NotOpenSSLWarning: urllib3 v2 only supports OpenSSL 1.1.1+, currently the 'ssl' module is compiled with 'LibreSSL 2.8.3'. See: https://github.com/urllib3/urllib3/issues/3020\n",
      "  warnings.warn(\n"
     ]
    },
    {
     "name": "stdout",
     "output_type": "stream",
     "text": [
      "{'00': 484, '01': 0, '10': 0, '11': 516}\n"
     ]
    },
    {
     "data": {
      "image/png": "[encoded data removed]",
      "text/plain": [
       "<Figure size 640x480 with 1 Axes>"
      ]
     },
     "execution_count": 2,
     "metadata": {},
     "output_type": "execute_result"
    }
   ],
   "source": [
    "# This code cell is to simulate realistic cases (with noise).\n",
    "# You can change the parameters of different noise to evaluate the performance of EE based D-CNOT. (PS: you should also adjust the code in the \"Create noisy simulator backend\" part)\n",
    "# If the parameter is set to 1 (e.g., the depolarizing rate is set to 1), the entanglement will be totally decoherent.\n",
    "# The D-CNOT's success rate is always 100%(case:00 + case:11 is 100%) when any type of noise only impacts one entanglement.\n",
    "\n",
    "p_depo_34 = 0  # error probability for entanglement q3q4，0~1\n",
    "p_depo_25 = 0  # error probability for entanglement q2q5，0~1\n",
    "p_depo_16 = 0  # error probability for entanglement q1q6，0~1\n",
    "p_gate_x_4 = 0 # pauli X error probability in q-gate of single qubit ，0~0.5\n",
    "p_gate_x_5 = 0 # pauli X error probability in q-gate of single qubit ，0~0.5\n",
    "p_gate_x_6 = 0 # pauli X error probability in q-gate of single qubit ，0~0.5\n",
    "p_gate_z_4 = 0 # pauli Z error probability in q-gate of single qubit ，0~0.5\n",
    "p_gate_z_5 = 0 # pauli Z error probability，in q-gate of single qubit ，0~0.5\n",
    "p_gate_z_6 = 0 # pauli Z error probability，in q-gate of single qubit ，0~0.5\n",
    "am_lambda_4 = 0 # the amplitude damping error parameter λ in q-gate of single qubit, 0~0.5\n",
    "pha_gamma_4 = 0 # the amplitude damping error parameter γ in q-gate of single qubit, 0~0.5\n",
    "am_lambda_5 = 0 # the amplitude damping error parameter λ in q-gate of single qubit, 0~0.5\n",
    "pha_gamma_5 = 0 # the amplitude damping error parameter γ in q-gate of single qubit, 0~0.5\n",
    "am_lambda_6 = 0 # the amplitude damping error parameter in q-gate of single qubit, 0~0.5\n",
    "pha_gamma_6 = 0 # the amplitude damping error parameter γ in q-gate of single qubit, 0~0.5\n",
    "\n",
    "\n",
    "# QuantumError objects\n",
    "depol_noise_q3q4 = depolarizing_error(p_depo_34, 2)\n",
    "depol_noise_q2q5 = depolarizing_error(p_depo_25, 2)\n",
    "depol_noise_q1q6 = depolarizing_error(p_depo_16, 2)\n",
    "\n",
    "pauli_error_x_q4 = pauli_error([('X',p_gate_x_4), ('I', 1 - p_gate_x_4)])\n",
    "pauli_error_z_q4 = pauli_error([('Z',p_gate_z_4), ('I', 1 - p_gate_z_4)])\n",
    "pauli_error_x_q5 = pauli_error([('X',p_gate_x_5), ('I', 1 - p_gate_x_5)])\n",
    "pauli_error_z_q5 = pauli_error([('Z',p_gate_z_5), ('I', 1 - p_gate_z_5)])\n",
    "pauli_error_x_q6 = pauli_error([('X',p_gate_x_6), ('I', 1 - p_gate_x_6)])\n",
    "pauli_error_z_q6 = pauli_error([('Z',p_gate_z_6), ('I', 1 - p_gate_z_6)])\n",
    "error_gate_x_q3q4 = pauli_error_x_q4.tensor(pauli_error_x_q4) # pauli X error probability in q-gate of double qubit ，0~1.\n",
    "error_gate_z_q3q4 = pauli_error_z_q4.tensor(pauli_error_z_q4) # # pauli Z error probability in q-gate of double qubit ，0~1.\n",
    "error_gate_x_q2q5 = pauli_error_x_q5.tensor(pauli_error_x_q5)\n",
    "error_gate_z_q2q5 = pauli_error_z_q5.tensor(pauli_error_z_q5)\n",
    "error_gate_x_q1q6 = pauli_error_x_q6.tensor(pauli_error_x_q6)\n",
    "error_gate_z_q1q6 = pauli_error_z_q6.tensor(pauli_error_z_q6)\n",
    "\n",
    "pa_damping_error_q4 = phase_amplitude_damping_error(am_lambda_4, pha_gamma_4)\n",
    "pa_damping_error_q5 = phase_amplitude_damping_error(am_lambda_5, pha_gamma_5)\n",
    "pa_damping_error_q6 = phase_amplitude_damping_error(am_lambda_6, pha_gamma_6)\n",
    "error_gate_pa_damping_q3q4 = pa_damping_error_q4.tensor(pa_damping_error_q4) # the phase amplitude damping error in q-gate of double qubit, 0~1\n",
    "error_gate_pa_damping_q2q5 = pa_damping_error_q5.tensor(pa_damping_error_q5)\n",
    "error_gate_pa_damping_q1q6 = pa_damping_error_q6.tensor(pa_damping_error_q6)\n",
    "\n",
    "# Create noisy simulator backend (adjusting this part to explore the different noise)\n",
    "noise_set = NoiseModel()\n",
    "noise_set.add_quantum_error(depol_noise_q3q4, ['cx'], [3,4])\n",
    "noise_set.add_quantum_error(depol_noise_q2q5, ['cx'], [2,5])\n",
    "noise_set.add_quantum_error(depol_noise_q1q6, ['cx'], [1,6])\n",
    "#noise_set.add_quantum_error(error_gate_x_q3q4, ['cx'], [3,4])\n",
    "#noise_set.add_quantum_error(error_gate_z_q3q4, ['cx'], [3,4])\n",
    "#noise_set.add_quantum_error(error_gate_x_q2q5, ['cx'], [2,5])\n",
    "#noise_set.add_quantum_error(error_gate_z_q2q5, ['cx'], [2,5])\n",
    "#noise_set.add_quantum_error(error_gate_x_q1q6, ['cx'], [1,6])\n",
    "#noise_set.add_quantum_error(error_gate_z_q1q6, ['cx'], [1,6])\n",
    "#noise_set.add_quantum_error(error_gate_pa_damping_q3q4, ['cx'], [3,4])\n",
    "#noise_set.add_quantum_error(error_gate_pa_damping_q2q5, ['cx'], [2,5])\n",
    "#noise_set.add_quantum_error(error_gate_pa_damping_q1q6, ['cx'], [1,6])\n",
    "\n",
    "sim_noise = AerSimulator(noise_model=noise_set)\n",
    "\n",
    "# Transpile circuit for noisy basis gates\n",
    "passmanager = generate_preset_pass_manager(optimization_level=3, backend=sim_noise)\n",
    "circuit_tnoise = passmanager.run(circuit)\n",
    "\n",
    "# Run and get counts\n",
    "counts = sim_noise.run(circuit_tnoise,shots=1000).result().get_counts()\n",
    "target_qubits_counts = {'00': 0, '01':0, '10':0, '11': 0}\n",
    "for outcome, count in counts.items():\n",
    "    target_qubits = outcome[0]+outcome[12]  # choose control_qubit(Alice side) q0(outcome[0]) and target_qubit(Bob side) q12(outcome[3])\n",
    "    target_qubits_counts[target_qubits] += count\n",
    "print(target_qubits_counts)\n",
    "plot_histogram(target_qubits_counts)"
   ]
  },
  {
   "cell_type": "code",
   "execution_count": null,
   "id": "be45a881-9293-4fdd-8478-75d9c3ddc892",
   "metadata": {},
   "outputs": [],
   "source": []
  },
  {
   "cell_type": "code",
   "execution_count": null,
   "id": "38b002f0-64b0-4762-a365-894c7c9521c4",
   "metadata": {},
   "outputs": [],
   "source": []
  }
 ],
 "metadata": {
  "kernelspec": {
   "display_name": "Python 3 (ipykernel)",
   "language": "python",
   "name": "python3"
  },
  "language_info": {
   "codemirror_mode": {
    "name": "ipython",
    "version": 3
   },
   "file_extension": ".py",
   "mimetype": "text/x-python",
   "name": "python",
   "nbconvert_exporter": "python",
   "pygments_lexer": "ipython3",
   "version": "3.8.2"
  }
 },
 "nbformat": 4,
 "nbformat_minor": 5
}
